{
  "nbformat": 4,
  "nbformat_minor": 0,
  "metadata": {
    "colab": {
      "name": "Queue.ipynb",
      "version": "0.3.2",
      "provenance": [],
      "collapsed_sections": [],
      "include_colab_link": true
    },
    "kernelspec": {
      "name": "python3",
      "display_name": "Python 3"
    }
  },
  "cells": [
    {
      "cell_type": "markdown",
      "metadata": {
        "id": "view-in-github",
        "colab_type": "text"
      },
      "source": [
        "<a href=\"https://colab.research.google.com/github/lar542/algorithms/blob/master/00_data_structure/Queue.ipynb\" target=\"_parent\"><img src=\"https://colab.research.google.com/assets/colab-badge.svg\" alt=\"Open In Colab\"/></a>"
      ]
    },
    {
      "cell_type": "markdown",
      "metadata": {
        "id": "lYtvvRNJs_Nv",
        "colab_type": "text"
      },
      "source": [
        "# 파이썬에서의 큐 = queue 모듈의 Queue 클래스 이용\n",
        "\n",
        "Python은 [큐 모듈](https://docs.python.org/3.7/library/queue.html#module-queue)을 통해 큐 자료구조를 제공합니다.\n",
        "\n",
        "## 큐는 어떤 자료구조인가요?\n",
        "\n",
        "큐는 자료의 선입선출, FIFO(First-In-First-Out)을 보장하는 자료구조입니다. 코딩 테스트 스터디에서는 자료 구조 이론에 대해서 다루지 않기 때문에 자세한 설명은 생략하겠습니다.\n",
        "\n",
        "#### Queue 클래스 사용 법\n",
        "\n",
        "Queue 클래스가 제공하는 메소드와 멤버 변수는 다음과 같습니다. 코딩 테스트에서는 필요하지 않은 메소드/멤버 변수는 언급하지 않겠습니다.\n",
        "\n",
        "\n",
        "| 구분      | 이름             | 하는 일                               |\n",
        "|-----------|------------------|---------------------------------------|\n",
        "| 메소드    | qsize()          | 들어있는 데이터의 길이를 리턴         |\n",
        "| 메소드    | empty()          | 큐가 비었는지 검사                    |\n",
        "| 메소드    | put(item) | item을 큐에 삽입                      |\n",
        "| 메소드    | get()     | 큐에서 원소를 제거하고 제거한 원소를 리턴 |\n",
        "| 멤버 변수 | queue            | 현재 큐에 들어 있는 데이터            |\n",
        "\n"
      ]
    },
    {
      "cell_type": "markdown",
      "metadata": {
        "id": "OeKJf6fktB9p",
        "colab_type": "text"
      },
      "source": [
        "## Queue - Init\n",
        "\n",
        "queue 모듈의 Queue 클래스를 이용해 큐를 초기화합니다."
      ]
    },
    {
      "cell_type": "code",
      "metadata": {
        "id": "ms-RNOshs23E",
        "colab_type": "code",
        "outputId": "4ab43ef2-4398-4c7f-9085-ec1ac1391027",
        "colab": {
          "base_uri": "https://localhost:8080/",
          "height": 34
        }
      },
      "source": [
        "# 빈 큐 생성하기\n",
        "from queue import Queue\n",
        "\n",
        "empty_queue = Queue()\n",
        "empty_queue"
      ],
      "execution_count": 0,
      "outputs": [
        {
          "output_type": "execute_result",
          "data": {
            "text/plain": [
              "<queue.Queue at 0x7f6a5d949630>"
            ]
          },
          "metadata": {
            "tags": []
          },
          "execution_count": 7
        }
      ]
    },
    {
      "cell_type": "markdown",
      "metadata": {
        "id": "B59lIg5tt2FT",
        "colab_type": "text"
      },
      "source": [
        "## Queue - put()\n",
        "\n",
        "안타깝게도 Queue에는 원소 N개를 한 번에 넣는 방법은 없습니다. 이때에는 데이터 수만큼 삽입 연산을 호출해주셔야 합니다."
      ]
    },
    {
      "cell_type": "code",
      "metadata": {
        "id": "K4RjypgWtq-G",
        "colab_type": "code",
        "outputId": "f966b9cb-1381-45fd-c886-8d112d3f2768",
        "colab": {
          "base_uri": "https://localhost:8080/",
          "height": 34
        }
      },
      "source": [
        "# 큐에 데이터 넣기\n",
        "from queue import Queue\n",
        "\n",
        "my_queue = Queue()\n",
        "my_queue.put(3)\n",
        "\n",
        "my_queue.queue"
      ],
      "execution_count": 0,
      "outputs": [
        {
          "output_type": "execute_result",
          "data": {
            "text/plain": [
              "deque([3])"
            ]
          },
          "metadata": {
            "tags": []
          },
          "execution_count": 10
        }
      ]
    },
    {
      "cell_type": "markdown",
      "metadata": {
        "id": "WHw-YQFDvSXO",
        "colab_type": "text"
      },
      "source": [
        "## Queue - get()\n",
        "\n",
        "데이터를 가져올 때에는 get 메소드를 사용하세요."
      ]
    },
    {
      "cell_type": "code",
      "metadata": {
        "id": "_F90ViECu6Bv",
        "colab_type": "code",
        "outputId": "2d8f553f-96af-4a15-c958-a794664d0884",
        "colab": {
          "base_uri": "https://localhost:8080/",
          "height": 52
        }
      },
      "source": [
        "# 큐에서 데이터 제거하기\n",
        "from queue import Queue\n",
        "\n",
        "my_queue = Queue()\n",
        "my_queue.put(3)\n",
        "\n",
        "front = my_queue.get_nowait()\n",
        "\n",
        "print(front)\n",
        "my_queue.queue"
      ],
      "execution_count": 0,
      "outputs": [
        {
          "output_type": "stream",
          "text": [
            "3\n"
          ],
          "name": "stdout"
        },
        {
          "output_type": "execute_result",
          "data": {
            "text/plain": [
              "deque([])"
            ]
          },
          "metadata": {
            "tags": []
          },
          "execution_count": 16
        }
      ]
    },
    {
      "cell_type": "markdown",
      "metadata": {
        "id": "CoDDlLAGvxt7",
        "colab_type": "text"
      },
      "source": [
        "## Queue - qsize()\n",
        "\n",
        "현재 큐에 들은 원소의 수를 알아낼 때에는 qsize 메소드를 사용합니다."
      ]
    },
    {
      "cell_type": "code",
      "metadata": {
        "id": "kCpWUHd0vrFi",
        "colab_type": "code",
        "outputId": "62a1f4ae-f6b1-4311-effb-fc4c6de9856c",
        "colab": {
          "base_uri": "https://localhost:8080/",
          "height": 104
        }
      },
      "source": [
        "# 큐에 들은 원소 수 알아내기\n",
        "from queue import Queue\n",
        "my_queue = Queue()\n",
        "\n",
        "for val in range(5):\n",
        "    my_queue.put(val)\n",
        "    print('큐 크기:', my_queue.qsize())"
      ],
      "execution_count": 0,
      "outputs": [
        {
          "output_type": "stream",
          "text": [
            "큐 크기: 1\n",
            "큐 크기: 2\n",
            "큐 크기: 3\n",
            "큐 크기: 4\n",
            "큐 크기: 5\n"
          ],
          "name": "stdout"
        }
      ]
    }
  ]
}